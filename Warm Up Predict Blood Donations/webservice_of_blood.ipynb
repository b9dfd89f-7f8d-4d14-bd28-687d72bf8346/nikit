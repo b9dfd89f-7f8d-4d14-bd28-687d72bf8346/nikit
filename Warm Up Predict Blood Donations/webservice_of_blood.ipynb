{
 "cells": [
  {
   "cell_type": "code",
   "execution_count": 1,
   "metadata": {},
   "outputs": [],
   "source": [
    "import pandas as pd\n",
    "import numpy as np\n",
    "from sklearn.metrics import log_loss\n",
    "from xgboost import XGBClassifier\n",
    "from sklearn.model_selection import train_test_split\n",
    "from sklearn.preprocessing import StandardScaler\n",
    "from lightgbm import LGBMClassifier\n",
    "from sklearn.preprocessing import LabelEncoder\n",
    "import pickle\n",
    "import math\n",
    "from scipy.stats import pearsonr, spearmanr, kendalltau, shapiro, pointbiserialr\n",
    "from sklearn.linear_model import RandomizedLogisticRegression as RLR\n",
    "\n",
    "import os,re,sys\n",
    "from flask import Flask, abort, jsonify, request, session\n"
   ]
  },
  {
   "cell_type": "code",
   "execution_count": 2,
   "metadata": {},
   "outputs": [],
   "source": [
    "def createfeature(df):\n",
    "    \n",
    "    df['Average Donation per Month'] = (df['Total Volume Donated (c.c.)']/df['Months since First Donation'])\n",
    "    df['Waiting Time'] = ((df['Months since First Donation'] - df['Months since Last Donation'])/df['Number of Donations'])\n",
    "    #df['Donated in the past 3-6 months'] = ((df['Months since Last Donation'] >= 3) &(df['Months since Last Donation'] <= 6))\n",
    "    #df['Frequent Donor'] = (df['Number of Donations'] >= 5)\n",
    "    df['monthratio']=df['Months since Last Donation']/df['Months since First Donation']\n",
    "    #df['monthratio']=df['Months since Last Donation']/df['Months since First Donation']\n",
    "   \n",
    "       \n",
    "    df['Number of Donations sqrt']=np.sqrt(df['Number of Donations'].astype(float))\n",
    "    df['Average Donation per Month sqrt']=np.sqrt(df['Average Donation per Month'])\n",
    "    df['Months since First Donation sqrt']=np.sqrt(df['Months since First Donation'])\n",
    "    df['Waiting Time sqrt']=np.sqrt(df['Waiting Time'])\n",
    "    df['Months since Last Donation sqrt']=np.sqrt(df['Months since Last Donation'])\n",
    "\n",
    "    df['Months since Last Donation mul']=df['Months since Last Donation']*df['Months since Last Donation']\n",
    "    df['Number of Donations mul']=df['Number of Donations']*df['Number of Donations']\n",
    "    df['Average Donation per Month mul']=df['Average Donation per Month']*df['Average Donation per Month']\n",
    "    df['Waiting Time mul']=df['Waiting Time']*df['Waiting Time']\n",
    "    df['Months since First Donation mul']=df['Months since First Donation']*df['Months since First Donation']\n",
    "    \n",
    " \n",
    "    means=df.mean(axis=1)\n",
    "    df['mean']=means\n",
    "    MAX=df.max(axis=1)\n",
    "    df['max']=MAX\n",
    "    MIN=df.min(axis=1)\n",
    "    df['min']=MIN\n",
    "    STD=df.std(axis=1)\n",
    "    df['std']=STD\n",
    "    MEDIAN=df.median(axis=1)\n",
    "    df['median']=MEDIAN\n",
    "    kurtosis=df.kurtosis(axis=1)\n",
    "    df['kurtosis']=kurtosis\n",
    "    skew=df.skew(axis=1)\n",
    "    df['skew']=skew\n",
    "    var=df.var(axis=1)\n",
    "    df['var']=var\n",
    "\n",
    "    return df"
   ]
  },
  {
   "cell_type": "code",
   "execution_count": 3,
   "metadata": {},
   "outputs": [],
   "source": [
    "blood_model = pickle.load(open(\"blood_model.pickle\",\"rb\" ) )"
   ]
  },
  {
   "cell_type": "code",
   "execution_count": 4,
   "metadata": {},
   "outputs": [],
   "source": [
    "app = Flask(__name__)"
   ]
  },
  {
   "cell_type": "code",
   "execution_count": null,
   "metadata": {},
   "outputs": [],
   "source": [
    "@app.route('/blood_mode', methods = ['POST'])\n",
    "def blood_mode():\n",
    "    \n",
    "    try:\n",
    "        \n",
    "        data = request.get_json(force = True)\n",
    "        \n",
    "        filepath = data['filepath']\n",
    "        #print(filepath)\n",
    "        test=pd.read_csv(filepath)\n",
    "        #print(test.head(5))\n",
    "        \n",
    "        test=createfeature(test)\n",
    "        \n",
    "        test=createfeature(test)\n",
    "        test = test.drop([\"Total Volume Donated (c.c.)\"],axis=1)\n",
    "        \n",
    "        y_pred = blood_model.predict(test)\n",
    "        pred = y_pred.tolist()\n",
    "        \n",
    "        \n",
    "    except Exception as e:\n",
    "        return jsonify ({'Error':str(e),'status':'False'})\n",
    "        \n",
    "    else:\n",
    "        return jsonify({'prediction':pred})"
   ]
  },
  {
   "cell_type": "code",
   "execution_count": null,
   "metadata": {},
   "outputs": [
    {
     "name": "stderr",
     "output_type": "stream",
     "text": [
      " * Running on http://0.0.0.0:7001/ (Press CTRL+C to quit)\n",
      "127.0.0.1 - - [05/Sep/2018 12:56:16] \"\u001b[37mPOST /blood_mode HTTP/1.1\u001b[0m\" 200 -\n"
     ]
    }
   ],
   "source": [
    "app.run(\"0.0.0.0\", port = 7001, debug = True, use_reloader = False,threaded=True)"
   ]
  },
  {
   "cell_type": "code",
   "execution_count": null,
   "metadata": {},
   "outputs": [],
   "source": [
    "test=pd.read_csv('test.csv')\n",
    "#print(test.head(5))\n",
    "\n",
    "test=createfeature(test)\n",
    "\n",
    "test=createfeature(test)\n",
    "test = test.drop([\"Total Volume Donated (c.c.)\"],axis=1)\n",
    "print(test.shape)\n"
   ]
  },
  {
   "cell_type": "code",
   "execution_count": null,
   "metadata": {},
   "outputs": [],
   "source": [
    "y_pred = blood_model.predict(test)"
   ]
  },
  {
   "cell_type": "code",
   "execution_count": null,
   "metadata": {},
   "outputs": [],
   "source": [
    "y_pred"
   ]
  },
  {
   "cell_type": "code",
   "execution_count": null,
   "metadata": {},
   "outputs": [],
   "source": []
  },
  {
   "cell_type": "code",
   "execution_count": null,
   "metadata": {},
   "outputs": [],
   "source": []
  },
  {
   "cell_type": "code",
   "execution_count": null,
   "metadata": {},
   "outputs": [],
   "source": []
  },
  {
   "cell_type": "code",
   "execution_count": null,
   "metadata": {},
   "outputs": [],
   "source": []
  }
 ],
 "metadata": {
  "kernelspec": {
   "display_name": "Python 3",
   "language": "python",
   "name": "python3"
  },
  "language_info": {
   "codemirror_mode": {
    "name": "ipython",
    "version": 3
   },
   "file_extension": ".py",
   "mimetype": "text/x-python",
   "name": "python",
   "nbconvert_exporter": "python",
   "pygments_lexer": "ipython3",
   "version": "3.6.3"
  }
 },
 "nbformat": 4,
 "nbformat_minor": 2
}
