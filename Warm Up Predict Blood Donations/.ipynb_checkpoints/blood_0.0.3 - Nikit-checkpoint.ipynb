{
 "cells": [
  {
   "cell_type": "code",
   "execution_count": 1,
   "metadata": {},
   "outputs": [],
   "source": [
    "#!pip install rgf_python"
   ]
  },
  {
   "cell_type": "code",
   "execution_count": 2,
   "metadata": {},
   "outputs": [
    {
     "name": "stderr",
     "output_type": "stream",
     "text": [
      "C:\\Users\\sanket.patel\\Anaconda3\\envs\\py3.6\\lib\\site-packages\\sklearn\\cross_validation.py:41: DeprecationWarning: This module was deprecated in version 0.18 in favor of the model_selection module into which all the refactored classes and functions are moved. Also note that the interface of the new CV iterators are different from that of this module. This module will be removed in 0.20.\n",
      "  \"This module will be removed in 0.20.\", DeprecationWarning)\n",
      "C:\\Users\\sanket.patel\\Anaconda3\\envs\\py3.6\\lib\\site-packages\\sklearn\\grid_search.py:42: DeprecationWarning: This module was deprecated in version 0.18 in favor of the model_selection module into which all the refactored classes and functions are moved. This module will be removed in 0.20.\n",
      "  DeprecationWarning)\n"
     ]
    }
   ],
   "source": [
    "import pandas as pd\n",
    "import numpy as np\n",
    "from sklearn.metrics import log_loss\n",
    "from xgboost import XGBClassifier\n",
    "from sklearn.model_selection import train_test_split\n",
    "from lightgbm import LGBMClassifier\n",
    "from sklearn.ensemble import RandomForestClassifier\n",
    "\n",
    "import matplotlib.pyplot as plt\n",
    "%matplotlib inline\n",
    "import seaborn as sns\n",
    "plt.style.use('bmh')\n",
    "plt.style.use('ggplot')\n",
    "plt.rcParams['figure.figsize'] = 30, 20\n",
    "\n",
    "from sklearn.grid_search import GridSearchCV\n",
    "from sklearn.linear_model import LogisticRegression\n",
    "from sklearn.ensemble import GradientBoostingClassifier\n",
    "from sklearn.svm import SVC\n",
    "from rgf.sklearn import RGFClassifier\n",
    "import math\n",
    "from scipy.stats import pearsonr, spearmanr, kendalltau, shapiro, pointbiserialr\n",
    "from sklearn.linear_model import RandomizedLogisticRegression as RLR"
   ]
  },
  {
   "cell_type": "code",
   "execution_count": 3,
   "metadata": {},
   "outputs": [],
   "source": [
    "train=pd.read_csv(\"train.csv\")"
   ]
  },
  {
   "cell_type": "code",
   "execution_count": 4,
   "metadata": {},
   "outputs": [],
   "source": [
    "trains=train"
   ]
  },
  {
   "cell_type": "code",
   "execution_count": 5,
   "metadata": {},
   "outputs": [],
   "source": [
    "df=trains"
   ]
  },
  {
   "cell_type": "code",
   "execution_count": 6,
   "metadata": {},
   "outputs": [],
   "source": [
    "def createfeature(df):\n",
    "    \n",
    "    df['Average Donation per Month'] = (df['Total Volume Donated (c.c.)']/df['Months since First Donation'])\n",
    "    df['Waiting Time'] = ((df['Months since First Donation'] - df['Months since Last Donation'])/df['Number of Donations'])\n",
    "    df['Donated in the past 3-6 months'] = ((df['Months since Last Donation'] >= 3) &(df['Months since Last Donation'] <= 6))\n",
    "    df['Frequent Donor'] = (df['Number of Donations'] >= 5)\n",
    "    df['monthratio']=df['Months since Last Donation']/df['Months since First Donation']\n",
    "    #df['monthratio']=df['Months since Last Donation']/df['Months since First Donation']\n",
    "   \n",
    "       \n",
    "    df['Number of Donations sqrt']=np.sqrt(df['Number of Donations'].astype(float))\n",
    "    df['Average Donation per Month sqrt']=np.sqrt(df['Average Donation per Month'])\n",
    "    df['Months since First Donation sqrt']=np.sqrt(df['Months since First Donation'])\n",
    "    df['Waiting Time sqrt']=np.sqrt(df['Waiting Time'])\n",
    "    df['Months since Last Donation sqrt']=np.sqrt(df['Months since Last Donation'])\n",
    "\n",
    "    df['Months since Last Donation mul']=df['Months since Last Donation']*df['Months since Last Donation']\n",
    "    df['Number of Donations mul']=df['Number of Donations']*df['Number of Donations']\n",
    "    df['Average Donation per Month mul']=df['Average Donation per Month']*df['Average Donation per Month']\n",
    "    df['Waiting Time mul']=df['Waiting Time']*df['Waiting Time']\n",
    "    df['Months since First Donation mul']=df['Months since First Donation']*df['Months since First Donation']\n",
    "    \n",
    " \n",
    "\n",
    "    means=df.mean(axis=1)\n",
    "\n",
    "    df['mean']=means\n",
    "\n",
    "\n",
    "\n",
    "    MAX=df.max(axis=1)\n",
    "\n",
    "    df['max']=MAX\n",
    "\n",
    "\n",
    "    MIN=df.min(axis=1)\n",
    "\n",
    "    df['min']=MIN\n",
    "\n",
    "\n",
    "    STD=df.std(axis=1)\n",
    "\n",
    "    df['std']=STD\n",
    "\n",
    "\n",
    "    MEDIAN=df.median(axis=1)\n",
    "\n",
    "    df['median']=MEDIAN\n",
    "\n",
    "\n",
    "    kurtosis=df.kurtosis(axis=1)\n",
    "\n",
    "    df['kurtosis']=kurtosis\n",
    "\n",
    "\n",
    "    skew=df.skew(axis=1)\n",
    "\n",
    "    df['skew']=skew\n",
    "\n",
    "    var=df.var(axis=1)\n",
    "\n",
    "    df['var']=var\n",
    "\n",
    "    return df"
   ]
  },
  {
   "cell_type": "code",
   "execution_count": 7,
   "metadata": {},
   "outputs": [
    {
     "data": {
      "text/html": [
       "<div>\n",
       "<style scoped>\n",
       "    .dataframe tbody tr th:only-of-type {\n",
       "        vertical-align: middle;\n",
       "    }\n",
       "\n",
       "    .dataframe tbody tr th {\n",
       "        vertical-align: top;\n",
       "    }\n",
       "\n",
       "    .dataframe thead th {\n",
       "        text-align: right;\n",
       "    }\n",
       "</style>\n",
       "<table border=\"1\" class=\"dataframe\">\n",
       "  <thead>\n",
       "    <tr style=\"text-align: right;\">\n",
       "      <th></th>\n",
       "      <th>id</th>\n",
       "      <th>Months since Last Donation</th>\n",
       "      <th>Number of Donations</th>\n",
       "      <th>Total Volume Donated (c.c.)</th>\n",
       "      <th>Months since First Donation</th>\n",
       "      <th>Made Donation in March 2007</th>\n",
       "      <th>Average Donation per Month</th>\n",
       "      <th>Waiting Time</th>\n",
       "      <th>Donated in the past 3-6 months</th>\n",
       "      <th>Frequent Donor</th>\n",
       "      <th>...</th>\n",
       "      <th>Waiting Time mul</th>\n",
       "      <th>Months since First Donation mul</th>\n",
       "      <th>mean</th>\n",
       "      <th>max</th>\n",
       "      <th>min</th>\n",
       "      <th>std</th>\n",
       "      <th>median</th>\n",
       "      <th>kurtosis</th>\n",
       "      <th>skew</th>\n",
       "      <th>var</th>\n",
       "    </tr>\n",
       "  </thead>\n",
       "  <tbody>\n",
       "    <tr>\n",
       "      <th>0</th>\n",
       "      <td>619</td>\n",
       "      <td>2</td>\n",
       "      <td>50</td>\n",
       "      <td>12500</td>\n",
       "      <td>98</td>\n",
       "      <td>1</td>\n",
       "      <td>127.551020</td>\n",
       "      <td>1.920000</td>\n",
       "      <td>False</td>\n",
       "      <td>True</td>\n",
       "      <td>...</td>\n",
       "      <td>3.686400</td>\n",
       "      <td>9604</td>\n",
       "      <td>1991.071662</td>\n",
       "      <td>16269.262807</td>\n",
       "      <td>0.0</td>\n",
       "      <td>5267.316956</td>\n",
       "      <td>9.899495</td>\n",
       "      <td>2.949769</td>\n",
       "      <td>2.107495</td>\n",
       "      <td>2.458109e+07</td>\n",
       "    </tr>\n",
       "    <tr>\n",
       "      <th>1</th>\n",
       "      <td>664</td>\n",
       "      <td>0</td>\n",
       "      <td>13</td>\n",
       "      <td>3250</td>\n",
       "      <td>28</td>\n",
       "      <td>1</td>\n",
       "      <td>116.071429</td>\n",
       "      <td>2.153846</td>\n",
       "      <td>False</td>\n",
       "      <td>True</td>\n",
       "      <td>...</td>\n",
       "      <td>4.639053</td>\n",
       "      <td>784</td>\n",
       "      <td>882.218055</td>\n",
       "      <td>13472.576531</td>\n",
       "      <td>0.0</td>\n",
       "      <td>3790.209397</td>\n",
       "      <td>5.291503</td>\n",
       "      <td>8.410860</td>\n",
       "      <td>3.098840</td>\n",
       "      <td>1.265753e+07</td>\n",
       "    </tr>\n",
       "  </tbody>\n",
       "</table>\n",
       "<p>2 rows × 29 columns</p>\n",
       "</div>"
      ],
      "text/plain": [
       "    id  Months since Last Donation  Number of Donations  \\\n",
       "0  619                           2                   50   \n",
       "1  664                           0                   13   \n",
       "\n",
       "   Total Volume Donated (c.c.)  Months since First Donation  \\\n",
       "0                        12500                           98   \n",
       "1                         3250                           28   \n",
       "\n",
       "   Made Donation in March 2007  Average Donation per Month  Waiting Time  \\\n",
       "0                            1                  127.551020      1.920000   \n",
       "1                            1                  116.071429      2.153846   \n",
       "\n",
       "   Donated in the past 3-6 months  Frequent Donor      ...       \\\n",
       "0                           False            True      ...        \n",
       "1                           False            True      ...        \n",
       "\n",
       "   Waiting Time mul  Months since First Donation mul         mean  \\\n",
       "0          3.686400                             9604  1991.071662   \n",
       "1          4.639053                              784   882.218055   \n",
       "\n",
       "            max  min          std    median  kurtosis      skew           var  \n",
       "0  16269.262807  0.0  5267.316956  9.899495  2.949769  2.107495  2.458109e+07  \n",
       "1  13472.576531  0.0  3790.209397  5.291503  8.410860  3.098840  1.265753e+07  \n",
       "\n",
       "[2 rows x 29 columns]"
      ]
     },
     "execution_count": 7,
     "metadata": {},
     "output_type": "execute_result"
    }
   ],
   "source": [
    "df=createfeature(df)\n",
    "df.head(2)"
   ]
  },
  {
   "cell_type": "code",
   "execution_count": 8,
   "metadata": {},
   "outputs": [
    {
     "data": {
      "text/plain": [
       "id                                  0\n",
       "Months since Last Donation          0\n",
       "Number of Donations                 0\n",
       "Total Volume Donated (c.c.)         0\n",
       "Months since First Donation         0\n",
       "Made Donation in March 2007         0\n",
       "Average Donation per Month          0\n",
       "Waiting Time                        0\n",
       "Donated in the past 3-6 months      0\n",
       "Frequent Donor                      0\n",
       "monthratio                          0\n",
       "Number of Donations sqrt            0\n",
       "Average Donation per Month sqrt     0\n",
       "Months since First Donation sqrt    0\n",
       "Waiting Time sqrt                   0\n",
       "Months since Last Donation sqrt     0\n",
       "Months since Last Donation mul      0\n",
       "Number of Donations mul             0\n",
       "Average Donation per Month mul      0\n",
       "Waiting Time mul                    0\n",
       "Months since First Donation mul     0\n",
       "mean                                0\n",
       "max                                 0\n",
       "min                                 0\n",
       "std                                 0\n",
       "median                              0\n",
       "kurtosis                            0\n",
       "skew                                0\n",
       "var                                 0\n",
       "dtype: int64"
      ]
     },
     "execution_count": 8,
     "metadata": {},
     "output_type": "execute_result"
    }
   ],
   "source": [
    "df.isna().sum()"
   ]
  },
  {
   "cell_type": "code",
   "execution_count": 9,
   "metadata": {},
   "outputs": [],
   "source": [
    "features = df.drop([\"Made Donation in March 2007\",\"id\",\"Total Volume Donated (c.c.)\",'Frequent Donor', 'Donated in the past 3-6 months'], axis=1).columns\n",
    "\n",
    "\n",
    "contdf=df[features]\n",
    "\n"
   ]
  },
  {
   "cell_type": "code",
   "execution_count": 10,
   "metadata": {},
   "outputs": [],
   "source": [
    "from sklearn.preprocessing import StandardScaler\n",
    "pd.options.mode.use_inf_as_na=True # treat inf as null\n",
    "\n",
    "\n",
    "logdf=df[contdf.columns].apply(np.log)\n",
    "dfff=logdf.fillna(0)\n",
    "\n",
    "scaler = StandardScaler()\n",
    "dff = pd.DataFrame(scaler.fit_transform(dfff[contdf.columns]))\n",
    "dff.columns=dfff[contdf.columns].columns\n",
    "\n",
    "dff[\"Donation2007\"]=df['Made Donation in March 2007'].values\n"
   ]
  },
  {
   "cell_type": "code",
   "execution_count": 11,
   "metadata": {},
   "outputs": [],
   "source": [
    "from sklearn.preprocessing import LabelEncoder\n",
    "factorVar = ['Frequent Donor', 'Donated in the past 3-6 months']\n",
    "\n",
    "le = LabelEncoder()\n",
    "\n",
    "for i in factorVar:\n",
    "    dff[i] = le.fit_transform(df[i])\n",
    "   \n",
    "\n",
    "    \n",
    "\n",
    "\n",
    "df_train, df_val = train_test_split(dff, test_size=0.10,random_state=42)\n",
    "\n",
    "\n"
   ]
  },
  {
   "cell_type": "code",
   "execution_count": 12,
   "metadata": {},
   "outputs": [
    {
     "data": {
      "text/html": [
       "<div>\n",
       "<style scoped>\n",
       "    .dataframe tbody tr th:only-of-type {\n",
       "        vertical-align: middle;\n",
       "    }\n",
       "\n",
       "    .dataframe tbody tr th {\n",
       "        vertical-align: top;\n",
       "    }\n",
       "\n",
       "    .dataframe thead th {\n",
       "        text-align: right;\n",
       "    }\n",
       "</style>\n",
       "<table border=\"1\" class=\"dataframe\">\n",
       "  <thead>\n",
       "    <tr style=\"text-align: right;\">\n",
       "      <th></th>\n",
       "      <th>Months since Last Donation</th>\n",
       "      <th>Number of Donations</th>\n",
       "      <th>Months since First Donation</th>\n",
       "      <th>Average Donation per Month</th>\n",
       "      <th>Waiting Time</th>\n",
       "      <th>monthratio</th>\n",
       "      <th>Number of Donations sqrt</th>\n",
       "      <th>Average Donation per Month sqrt</th>\n",
       "      <th>Months since First Donation sqrt</th>\n",
       "      <th>Waiting Time sqrt</th>\n",
       "      <th>...</th>\n",
       "      <th>max</th>\n",
       "      <th>min</th>\n",
       "      <th>std</th>\n",
       "      <th>median</th>\n",
       "      <th>kurtosis</th>\n",
       "      <th>skew</th>\n",
       "      <th>var</th>\n",
       "      <th>Donation2007</th>\n",
       "      <th>Frequent Donor</th>\n",
       "      <th>Donated in the past 3-6 months</th>\n",
       "    </tr>\n",
       "  </thead>\n",
       "  <tbody>\n",
       "    <tr>\n",
       "      <th>0</th>\n",
       "      <td>-1.233234</td>\n",
       "      <td>2.925677</td>\n",
       "      <td>1.441204</td>\n",
       "      <td>1.628044</td>\n",
       "      <td>-0.540405</td>\n",
       "      <td>-2.298805</td>\n",
       "      <td>2.925677</td>\n",
       "      <td>1.628044</td>\n",
       "      <td>1.441204</td>\n",
       "      <td>-0.540405</td>\n",
       "      <td>...</td>\n",
       "      <td>1.626673</td>\n",
       "      <td>0.234682</td>\n",
       "      <td>1.779299</td>\n",
       "      <td>0.727474</td>\n",
       "      <td>-0.538057</td>\n",
       "      <td>-0.655363</td>\n",
       "      <td>1.782909</td>\n",
       "      <td>1</td>\n",
       "      <td>1</td>\n",
       "      <td>0</td>\n",
       "    </tr>\n",
       "    <tr>\n",
       "      <th>1</th>\n",
       "      <td>-1.972346</td>\n",
       "      <td>1.421642</td>\n",
       "      <td>0.160172</td>\n",
       "      <td>1.501249</td>\n",
       "      <td>-0.411762</td>\n",
       "      <td>1.163988</td>\n",
       "      <td>1.421642</td>\n",
       "      <td>1.501249</td>\n",
       "      <td>0.160172</td>\n",
       "      <td>-0.411762</td>\n",
       "      <td>...</td>\n",
       "      <td>1.453035</td>\n",
       "      <td>0.234682</td>\n",
       "      <td>1.458455</td>\n",
       "      <td>-0.272304</td>\n",
       "      <td>0.869934</td>\n",
       "      <td>0.969905</td>\n",
       "      <td>1.458870</td>\n",
       "      <td>1</td>\n",
       "      <td>1</td>\n",
       "      <td>0</td>\n",
       "    </tr>\n",
       "  </tbody>\n",
       "</table>\n",
       "<p>2 rows × 27 columns</p>\n",
       "</div>"
      ],
      "text/plain": [
       "   Months since Last Donation  Number of Donations  \\\n",
       "0                   -1.233234             2.925677   \n",
       "1                   -1.972346             1.421642   \n",
       "\n",
       "   Months since First Donation  Average Donation per Month  Waiting Time  \\\n",
       "0                     1.441204                    1.628044     -0.540405   \n",
       "1                     0.160172                    1.501249     -0.411762   \n",
       "\n",
       "   monthratio  Number of Donations sqrt  Average Donation per Month sqrt  \\\n",
       "0   -2.298805                  2.925677                         1.628044   \n",
       "1    1.163988                  1.421642                         1.501249   \n",
       "\n",
       "   Months since First Donation sqrt  Waiting Time sqrt  \\\n",
       "0                          1.441204          -0.540405   \n",
       "1                          0.160172          -0.411762   \n",
       "\n",
       "                ...                     max       min       std    median  \\\n",
       "0               ...                1.626673  0.234682  1.779299  0.727474   \n",
       "1               ...                1.453035  0.234682  1.458455 -0.272304   \n",
       "\n",
       "   kurtosis      skew       var  Donation2007  Frequent Donor  \\\n",
       "0 -0.538057 -0.655363  1.782909             1               1   \n",
       "1  0.869934  0.969905  1.458870             1               1   \n",
       "\n",
       "   Donated in the past 3-6 months  \n",
       "0                               0  \n",
       "1                               0  \n",
       "\n",
       "[2 rows x 27 columns]"
      ]
     },
     "execution_count": 12,
     "metadata": {},
     "output_type": "execute_result"
    }
   ],
   "source": [
    "dff.head(2)"
   ]
  },
  {
   "cell_type": "code",
   "execution_count": 13,
   "metadata": {},
   "outputs": [],
   "source": [
    "# correlation=dff.corr(method='spearman')\n",
    "# columns=abs(correlation).Donation2007.drop('Donation2007').sort_values()\n",
    "\n",
    "# plt.figure(figsize=(25,40))\n",
    "# plt.title(\"Spearman's correlation\")\n",
    "# sns.heatmap(abs(dff.drop('Donation2007', axis=1).corr(method='spearman')), cmap='Blues', annot=True, cbar=False)"
   ]
  },
  {
   "cell_type": "code",
   "execution_count": 14,
   "metadata": {},
   "outputs": [],
   "source": [
    "correlation=dff.corr()\n",
    "columns=abs(correlation).Donation2007.drop('Donation2007').sort_values()\n"
   ]
  },
  {
   "cell_type": "code",
   "execution_count": 15,
   "metadata": {},
   "outputs": [
    {
     "data": {
      "text/plain": [
       "<matplotlib.axes._subplots.AxesSubplot at 0x18c3c1eceb8>"
      ]
     },
     "execution_count": 15,
     "metadata": {},
     "output_type": "execute_result"
    },
    {
     "data": {
      "image/png": "[encoded data removed]",
      "text/plain": [
       "<matplotlib.figure.Figure at 0x18c3c1ec908>"
      ]
     },
     "metadata": {},
     "output_type": "display_data"
    }
   ],
   "source": [
    "sns.set(font_scale = 1.5)\n",
    "plt.figure(figsize=(20,20))\n",
    "(abs(correlation)\n",
    " .Donation2007\n",
    " .drop('Donation2007')\n",
    " .sort_values()\n",
    " .plot\n",
    " .barh())"
   ]
  },
  {
   "cell_type": "code",
   "execution_count": 16,
   "metadata": {},
   "outputs": [],
   "source": [
    "from sklearn.linear_model import LogisticRegressionCV\n",
    "Classifier = [\n",
    "    \n",
    "    \n",
    "   \n",
    "  \n",
    "        LGBMClassifier(\n",
    "            \n",
    "        n_estimators=132,#132\n",
    "        learning_rate=0.1,\n",
    "        num_leaves=64,\n",
    "        max_depth=7,\n",
    "        min_data_in_leaf=40,\n",
    "        max_bin =15,\n",
    "        reg_alpha=0.8, reg_lambda=0.6,\n",
    "        colsample_bytree=1.0,\n",
    "        min_split_gain=0.001, objective = \"binary\",random_state=42,\n",
    "        stratified=True\n",
    "                \n",
    "        )\n",
    "    \n",
    "   \n",
    "  \n",
    "   \n",
    "    ]"
   ]
  },
  {
   "cell_type": "code",
   "execution_count": 17,
   "metadata": {},
   "outputs": [],
   "source": [
    "limit=17"
   ]
  },
  {
   "cell_type": "code",
   "execution_count": 18,
   "metadata": {},
   "outputs": [
    {
     "name": "stdout",
     "output_type": "stream",
     "text": [
      "Accuracy of LGBMClassifier is 0.9137931034482759\n",
      "************************************************************\n"
     ]
    },
    {
     "name": "stderr",
     "output_type": "stream",
     "text": [
      "C:\\Users\\sanket.patel\\Anaconda3\\envs\\py3.6\\lib\\site-packages\\sklearn\\preprocessing\\label.py:151: DeprecationWarning: The truth value of an empty array is ambiguous. Returning False, but in future this will result in an error. Use `array.size > 0` to check that an array is not empty.\n",
      "  if diff:\n"
     ]
    }
   ],
   "source": [
    "Accuracy=[]\n",
    "Model=[]\n",
    "\n",
    "# for classifier in Classifier:\n",
    "#     try:\n",
    "        \n",
    "#         fit = classifier.fit(df_train[columns.tail(limit).index], df_train[\"Donation2007\"])\n",
    "#         pred = fit.predict_proba(df_val[columns.tail(limit).index])\n",
    "#     except Exception:\n",
    "#         fit = classifier.fit(df_train[columns.tail(limit).index], df_train[\"Donation2007\"])\n",
    "#         pred = fit.predict_proba(df_val[columns.tail(limit).index])\n",
    "        \n",
    "        \n",
    "#     score = classifier.score(df_val[columns.tail(limit).index], df_val[\"Donation2007\"])\n",
    "#     Model.append(classifier.__class__.__name__)\n",
    "#     print('Accuracy of '+classifier.__class__.__name__+' is '+str(score))\n",
    "    \n",
    "#     print(\"************************************************************\")\n",
    "#     val_actual=np.array(df_val[\"Donation2007\"])\n",
    "#     val_pred=np.array(pred)\n",
    "    \n",
    "    \n",
    "for classifier in Classifier:\n",
    "    try:\n",
    "        \n",
    "        fit = classifier.fit(df_train[features], df_train[\"Donation2007\"])\n",
    "        pred = fit.predict_proba(df_val[features])\n",
    "    except Exception:\n",
    "        fit = classifier.fit(df_train[features], df_train[\"Donation2007\"])\n",
    "        pred = fit.predict_proba(df_val[features])\n",
    "        \n",
    "        \n",
    "    score = classifier.score(df_val[features], df_val[\"Donation2007\"])\n",
    "    Model.append(classifier.__class__.__name__)\n",
    "    print('Accuracy of '+classifier.__class__.__name__+' is '+str(score))\n",
    "    \n",
    "    print(\"************************************************************\")\n",
    "    val_actual=np.array(df_val[\"Donation2007\"])\n",
    "    val_pred=np.array(pred)"
   ]
  },
  {
   "cell_type": "code",
   "execution_count": 19,
   "metadata": {},
   "outputs": [],
   "source": [
    "logloss=log_loss(val_actual,val_pred[:,1])"
   ]
  },
  {
   "cell_type": "code",
   "execution_count": 20,
   "metadata": {},
   "outputs": [
    {
     "data": {
      "text/plain": [
       "0.3217956986847634"
      ]
     },
     "execution_count": 20,
     "metadata": {},
     "output_type": "execute_result"
    }
   ],
   "source": [
    "logloss"
   ]
  },
  {
   "cell_type": "code",
   "execution_count": 21,
   "metadata": {},
   "outputs": [],
   "source": [
    "test=pd.read_csv(\"test.csv\")"
   ]
  },
  {
   "cell_type": "code",
   "execution_count": 22,
   "metadata": {},
   "outputs": [],
   "source": [
    "test=createfeature(test)"
   ]
  },
  {
   "cell_type": "code",
   "execution_count": 23,
   "metadata": {},
   "outputs": [
    {
     "data": {
      "text/plain": [
       "id                                  0\n",
       "Months since Last Donation          0\n",
       "Number of Donations                 0\n",
       "Total Volume Donated (c.c.)         0\n",
       "Months since First Donation         0\n",
       "Average Donation per Month          0\n",
       "Waiting Time                        0\n",
       "Donated in the past 3-6 months      0\n",
       "Frequent Donor                      0\n",
       "monthratio                          0\n",
       "Number of Donations sqrt            0\n",
       "Average Donation per Month sqrt     0\n",
       "Months since First Donation sqrt    0\n",
       "Waiting Time sqrt                   0\n",
       "Months since Last Donation sqrt     0\n",
       "Months since Last Donation mul      0\n",
       "Number of Donations mul             0\n",
       "Average Donation per Month mul      0\n",
       "Waiting Time mul                    0\n",
       "Months since First Donation mul     0\n",
       "mean                                0\n",
       "max                                 0\n",
       "min                                 0\n",
       "std                                 0\n",
       "median                              0\n",
       "kurtosis                            0\n",
       "skew                                0\n",
       "var                                 0\n",
       "dtype: int64"
      ]
     },
     "execution_count": 23,
     "metadata": {},
     "output_type": "execute_result"
    }
   ],
   "source": [
    "test.isna().sum()"
   ]
  },
  {
   "cell_type": "code",
   "execution_count": 24,
   "metadata": {},
   "outputs": [],
   "source": [
    "from sklearn.preprocessing import StandardScaler\n",
    "\n",
    "\n",
    "testlogdf=test[contdf.columns].apply(np.log)\n",
    "testtt=testlogdf.fillna(0)\n",
    "\n",
    "scaler = StandardScaler()\n",
    "\n",
    "testt = pd.DataFrame(scaler.fit_transform(testtt[contdf.columns]))\n",
    "testt.columns=testtt[contdf.columns].columns\n",
    "\n",
    "\n",
    "\n",
    "factorVar = ['Frequent Donor', 'Donated in the past 3-6 months']\n",
    "\n",
    "le = LabelEncoder()\n",
    "\n",
    "for i in factorVar:\n",
    "    testt[i] = le.fit_transform(test[i])"
   ]
  },
  {
   "cell_type": "code",
   "execution_count": 25,
   "metadata": {},
   "outputs": [],
   "source": [
    "y_pred = fit.predict_proba(testt[features])"
   ]
  },
  {
   "cell_type": "code",
   "execution_count": 26,
   "metadata": {},
   "outputs": [],
   "source": [
    "#y_pred"
   ]
  },
  {
   "cell_type": "code",
   "execution_count": 27,
   "metadata": {},
   "outputs": [],
   "source": [
    "predictions_donate =y_pred[:,1]\n",
    "results = pd.DataFrame(test['id'].copy())\n",
    "results['Made Donation in March 2007'] = predictions_donate "
   ]
  },
  {
   "cell_type": "code",
   "execution_count": 28,
   "metadata": {},
   "outputs": [
    {
     "data": {
      "text/html": [
       "<div>\n",
       "<style scoped>\n",
       "    .dataframe tbody tr th:only-of-type {\n",
       "        vertical-align: middle;\n",
       "    }\n",
       "\n",
       "    .dataframe tbody tr th {\n",
       "        vertical-align: top;\n",
       "    }\n",
       "\n",
       "    .dataframe thead th {\n",
       "        text-align: right;\n",
       "    }\n",
       "</style>\n",
       "<table border=\"1\" class=\"dataframe\">\n",
       "  <thead>\n",
       "    <tr style=\"text-align: right;\">\n",
       "      <th></th>\n",
       "      <th>id</th>\n",
       "      <th>Made Donation in March 2007</th>\n",
       "    </tr>\n",
       "  </thead>\n",
       "  <tbody>\n",
       "    <tr>\n",
       "      <th>0</th>\n",
       "      <td>659</td>\n",
       "      <td>0.384927</td>\n",
       "    </tr>\n",
       "    <tr>\n",
       "      <th>1</th>\n",
       "      <td>276</td>\n",
       "      <td>0.135541</td>\n",
       "    </tr>\n",
       "    <tr>\n",
       "      <th>2</th>\n",
       "      <td>263</td>\n",
       "      <td>0.170037</td>\n",
       "    </tr>\n",
       "    <tr>\n",
       "      <th>3</th>\n",
       "      <td>303</td>\n",
       "      <td>0.139920</td>\n",
       "    </tr>\n",
       "    <tr>\n",
       "      <th>4</th>\n",
       "      <td>83</td>\n",
       "      <td>0.233991</td>\n",
       "    </tr>\n",
       "  </tbody>\n",
       "</table>\n",
       "</div>"
      ],
      "text/plain": [
       "    id  Made Donation in March 2007\n",
       "0  659                     0.384927\n",
       "1  276                     0.135541\n",
       "2  263                     0.170037\n",
       "3  303                     0.139920\n",
       "4   83                     0.233991"
      ]
     },
     "execution_count": 28,
     "metadata": {},
     "output_type": "execute_result"
    }
   ],
   "source": [
    "results.head(5)"
   ]
  },
  {
   "cell_type": "code",
   "execution_count": 29,
   "metadata": {},
   "outputs": [],
   "source": [
    "results.to_csv(\"testlgb61.csv\",index=False)"
   ]
  },
  {
   "cell_type": "code",
   "execution_count": null,
   "metadata": {},
   "outputs": [],
   "source": []
  }
 ],
 "metadata": {
  "kernelspec": {
   "display_name": "Python 3",
   "language": "python",
   "name": "python3"
  },
  "language_info": {
   "codemirror_mode": {
    "name": "ipython",
    "version": 3
   },
   "file_extension": ".py",
   "mimetype": "text/x-python",
   "name": "python",
   "nbconvert_exporter": "python",
   "pygments_lexer": "ipython3",
   "version": "3.6.3"
  }
 },
 "nbformat": 4,
 "nbformat_minor": 2
}
