{
 "cells": [
  {
   "cell_type": "code",
   "execution_count": 50,
   "metadata": {},
   "outputs": [],
   "source": [
    "import pandas as pd\n",
    "import numpy as np\n",
    "from sklearn.metrics import log_loss\n",
    "from xgboost import XGBClassifier\n",
    "from sklearn.model_selection import train_test_split\n",
    "from lightgbm import LGBMClassifier\n",
    "from sklearn.ensemble import RandomForestClassifier\n",
    "import pickle\n",
    "\n",
    "import matplotlib.pyplot as plt\n",
    "%matplotlib inline\n",
    "import seaborn as sns\n",
    "plt.style.use('bmh')\n",
    "plt.style.use('ggplot')\n",
    "plt.rcParams['figure.figsize'] = 30, 20\n",
    "\n",
    "\n",
    "import math\n",
    "from scipy.stats import pearsonr, spearmanr, kendalltau, shapiro, pointbiserialr\n",
    "from sklearn.linear_model import RandomizedLogisticRegression as RLR"
   ]
  },
  {
   "cell_type": "code",
   "execution_count": 51,
   "metadata": {},
   "outputs": [
    {
     "data": {
      "text/plain": [
       "Index(['Months since Last Donation', 'Number of Donations',\n",
       "       'Total Volume Donated (c.c.)', 'Months since First Donation',\n",
       "       'Made Donation in March 2007'],\n",
       "      dtype='object')"
      ]
     },
     "execution_count": 51,
     "metadata": {},
     "output_type": "execute_result"
    }
   ],
   "source": [
    "train=pd.read_csv(\"train.csv\")\n",
    "train.columns"
   ]
  },
  {
   "cell_type": "code",
   "execution_count": 52,
   "metadata": {},
   "outputs": [],
   "source": [
    "df=train"
   ]
  },
  {
   "cell_type": "code",
   "execution_count": 53,
   "metadata": {},
   "outputs": [],
   "source": [
    "def createfeature(df):\n",
    "    \n",
    "    df['Average Donation per Month'] = (df['Total Volume Donated (c.c.)']/df['Months since First Donation'])\n",
    "    df['Waiting Time'] = ((df['Months since First Donation'] - df['Months since Last Donation'])/df['Number of Donations'])\n",
    "    #df['Donated in the past 3-6 months'] = ((df['Months since Last Donation'] >= 3) &(df['Months since Last Donation'] <= 6))\n",
    "    #df['Frequent Donor'] = (df['Number of Donations'] >= 5)\n",
    "    df['monthratio']=df['Months since Last Donation']/df['Months since First Donation']\n",
    "    #df['monthratio']=df['Months since Last Donation']/df['Months since First Donation']\n",
    "   \n",
    "       \n",
    "    df['Number of Donations sqrt']=np.sqrt(df['Number of Donations'].astype(float))\n",
    "    df['Average Donation per Month sqrt']=np.sqrt(df['Average Donation per Month'])\n",
    "    df['Months since First Donation sqrt']=np.sqrt(df['Months since First Donation'])\n",
    "    df['Waiting Time sqrt']=np.sqrt(df['Waiting Time'])\n",
    "    df['Months since Last Donation sqrt']=np.sqrt(df['Months since Last Donation'])\n",
    "\n",
    "    df['Months since Last Donation mul']=df['Months since Last Donation']*df['Months since Last Donation']\n",
    "    df['Number of Donations mul']=df['Number of Donations']*df['Number of Donations']\n",
    "    df['Average Donation per Month mul']=df['Average Donation per Month']*df['Average Donation per Month']\n",
    "    df['Waiting Time mul']=df['Waiting Time']*df['Waiting Time']\n",
    "    df['Months since First Donation mul']=df['Months since First Donation']*df['Months since First Donation']\n",
    "    \n",
    " \n",
    "\n",
    "    means=df.mean(axis=1)\n",
    "\n",
    "    df['mean']=means\n",
    "\n",
    "\n",
    "\n",
    "    MAX=df.max(axis=1)\n",
    "\n",
    "    df['max']=MAX\n",
    "\n",
    "\n",
    "    MIN=df.min(axis=1)\n",
    "\n",
    "    df['min']=MIN\n",
    "\n",
    "\n",
    "    STD=df.std(axis=1)\n",
    "\n",
    "    df['std']=STD\n",
    "\n",
    "\n",
    "    MEDIAN=df.median(axis=1)\n",
    "\n",
    "    df['median']=MEDIAN\n",
    "\n",
    "\n",
    "    kurtosis=df.kurtosis(axis=1)\n",
    "\n",
    "    df['kurtosis']=kurtosis\n",
    "\n",
    "\n",
    "    skew=df.skew(axis=1)\n",
    "\n",
    "    df['skew']=skew\n",
    "\n",
    "    var=df.var(axis=1)\n",
    "\n",
    "    df['var']=var\n",
    "\n",
    "    return df"
   ]
  },
  {
   "cell_type": "code",
   "execution_count": 54,
   "metadata": {},
   "outputs": [
    {
     "data": {
      "text/html": [
       "<div>\n",
       "<style>\n",
       "    .dataframe thead tr:only-child th {\n",
       "        text-align: right;\n",
       "    }\n",
       "\n",
       "    .dataframe thead th {\n",
       "        text-align: left;\n",
       "    }\n",
       "\n",
       "    .dataframe tbody tr th {\n",
       "        vertical-align: top;\n",
       "    }\n",
       "</style>\n",
       "<table border=\"1\" class=\"dataframe\">\n",
       "  <thead>\n",
       "    <tr style=\"text-align: right;\">\n",
       "      <th></th>\n",
       "      <th>Months since Last Donation</th>\n",
       "      <th>Number of Donations</th>\n",
       "      <th>Total Volume Donated (c.c.)</th>\n",
       "      <th>Months since First Donation</th>\n",
       "      <th>Made Donation in March 2007</th>\n",
       "      <th>Average Donation per Month</th>\n",
       "      <th>Waiting Time</th>\n",
       "      <th>monthratio</th>\n",
       "      <th>Number of Donations sqrt</th>\n",
       "      <th>Average Donation per Month sqrt</th>\n",
       "      <th>...</th>\n",
       "      <th>Waiting Time mul</th>\n",
       "      <th>Months since First Donation mul</th>\n",
       "      <th>mean</th>\n",
       "      <th>max</th>\n",
       "      <th>min</th>\n",
       "      <th>std</th>\n",
       "      <th>median</th>\n",
       "      <th>kurtosis</th>\n",
       "      <th>skew</th>\n",
       "      <th>var</th>\n",
       "    </tr>\n",
       "  </thead>\n",
       "  <tbody>\n",
       "    <tr>\n",
       "      <th>0</th>\n",
       "      <td>2</td>\n",
       "      <td>50</td>\n",
       "      <td>12500</td>\n",
       "      <td>98</td>\n",
       "      <td>1</td>\n",
       "      <td>127.551020</td>\n",
       "      <td>1.920000</td>\n",
       "      <td>0.020408</td>\n",
       "      <td>7.071068</td>\n",
       "      <td>11.293849</td>\n",
       "      <td>...</td>\n",
       "      <td>3.686400</td>\n",
       "      <td>9604</td>\n",
       "      <td>2288.472495</td>\n",
       "      <td>16269.262807</td>\n",
       "      <td>0.020408</td>\n",
       "      <td>5564.961719</td>\n",
       "      <td>10.596672</td>\n",
       "      <td>2.061317</td>\n",
       "      <td>1.901873</td>\n",
       "      <td>2.706792e+07</td>\n",
       "    </tr>\n",
       "    <tr>\n",
       "      <th>1</th>\n",
       "      <td>0</td>\n",
       "      <td>13</td>\n",
       "      <td>3250</td>\n",
       "      <td>28</td>\n",
       "      <td>1</td>\n",
       "      <td>116.071429</td>\n",
       "      <td>2.153846</td>\n",
       "      <td>0.000000</td>\n",
       "      <td>3.605551</td>\n",
       "      <td>10.773645</td>\n",
       "      <td>...</td>\n",
       "      <td>4.639053</td>\n",
       "      <td>784</td>\n",
       "      <td>992.309953</td>\n",
       "      <td>13472.576531</td>\n",
       "      <td>0.000000</td>\n",
       "      <td>4034.003730</td>\n",
       "      <td>8.032574</td>\n",
       "      <td>6.946195</td>\n",
       "      <td>2.865862</td>\n",
       "      <td>1.410682e+07</td>\n",
       "    </tr>\n",
       "  </tbody>\n",
       "</table>\n",
       "<p>2 rows × 26 columns</p>\n",
       "</div>"
      ],
      "text/plain": [
       "   Months since Last Donation  Number of Donations  \\\n",
       "0                           2                   50   \n",
       "1                           0                   13   \n",
       "\n",
       "   Total Volume Donated (c.c.)  Months since First Donation  \\\n",
       "0                        12500                           98   \n",
       "1                         3250                           28   \n",
       "\n",
       "   Made Donation in March 2007  Average Donation per Month  Waiting Time  \\\n",
       "0                            1                  127.551020      1.920000   \n",
       "1                            1                  116.071429      2.153846   \n",
       "\n",
       "   monthratio  Number of Donations sqrt  Average Donation per Month sqrt  \\\n",
       "0    0.020408                  7.071068                        11.293849   \n",
       "1    0.000000                  3.605551                        10.773645   \n",
       "\n",
       "       ...       Waiting Time mul  Months since First Donation mul  \\\n",
       "0      ...               3.686400                             9604   \n",
       "1      ...               4.639053                              784   \n",
       "\n",
       "          mean           max       min          std     median  kurtosis  \\\n",
       "0  2288.472495  16269.262807  0.020408  5564.961719  10.596672  2.061317   \n",
       "1   992.309953  13472.576531  0.000000  4034.003730   8.032574  6.946195   \n",
       "\n",
       "       skew           var  \n",
       "0  1.901873  2.706792e+07  \n",
       "1  2.865862  1.410682e+07  \n",
       "\n",
       "[2 rows x 26 columns]"
      ]
     },
     "execution_count": 54,
     "metadata": {},
     "output_type": "execute_result"
    }
   ],
   "source": [
    "df=createfeature(df)\n",
    "df.head(2)"
   ]
  },
  {
   "cell_type": "code",
   "execution_count": 55,
   "metadata": {},
   "outputs": [],
   "source": [
    "df = df.drop([\"Made Donation in March 2007\",\"Total Volume Donated (c.c.)\"],axis=1)"
   ]
  },
  {
   "cell_type": "code",
   "execution_count": 56,
   "metadata": {},
   "outputs": [],
   "source": [
    "from sklearn.preprocessing import StandardScaler\n",
    "#pd.options.mode.use_inf_as_na=True # treat inf as null\n",
    "\n",
    "\n",
    "logdf=df.apply(np.log)\n",
    "dfff=logdf.fillna(0)\n",
    "dfff = dfff.replace([np.inf, -np.inf,np.nan], 0)\n",
    "\n",
    "scaler = StandardScaler()\n",
    "dff = pd.DataFrame(scaler.fit_transform(dfff))\n",
    "dff.columns=dfff.columns"
   ]
  },
  {
   "cell_type": "code",
   "execution_count": 85,
   "metadata": {},
   "outputs": [
    {
     "name": "stdout",
     "output_type": "stream",
     "text": [
      "(385, 24) (191, 24) (385,) (191,)\n",
      "<class 'pandas.core.frame.DataFrame'> <class 'pandas.core.frame.DataFrame'> <class 'pandas.core.series.Series'> <class 'pandas.core.series.Series'>\n"
     ]
    }
   ],
   "source": [
    "X_train, X_test, y_train, y_test = train_test_split(df, train['Made Donation in March 2007'], test_size=0.33, random_state=42)\n",
    "\n",
    "#df_train, df_val = train_test_split(df, test_size=0.10,random_state=42)\n",
    "print(X_train.shape, X_test.shape, y_train.shape, y_test.shape)\n",
    "print(X_train.__class__, X_test.__class__, y_train.__class__, y_test.__class__)"
   ]
  },
  {
   "cell_type": "code",
   "execution_count": 88,
   "metadata": {},
   "outputs": [],
   "source": [
    "from sklearn.linear_model import LogisticRegressionCV\n",
    "Classifier = [\n",
    "  \n",
    "        LGBMClassifier(\n",
    "            \n",
    "        n_estimators=132,#132\n",
    "        learning_rate=0.1,\n",
    "        num_leaves=64,\n",
    "        max_depth=7,\n",
    "        min_data_in_leaf=40,\n",
    "        max_bin =15,\n",
    "        reg_alpha=0.8, reg_lambda=0.6,\n",
    "        colsample_bytree=1.0,\n",
    "        min_split_gain=0.001, objective = \"binary\",random_state=42,\n",
    "        stratified=True\n",
    "                \n",
    "        ),\n",
    "        RandomForestClassifier(),\n",
    "    \n",
    "   \n",
    "  \n",
    "   \n",
    "    ]"
   ]
  },
  {
   "cell_type": "code",
   "execution_count": 89,
   "metadata": {},
   "outputs": [
    {
     "name": "stdout",
     "output_type": "stream",
     "text": [
      "Accuracy of LGBMClassifier is 0.968586387435\n",
      "************************************************************\n",
      "Accuracy of RandomForestClassifier is 0.890052356021\n",
      "************************************************************\n"
     ]
    }
   ],
   "source": [
    "Accuracy=[]\n",
    "Model=[]\n",
    "\n",
    "# for classifier in Classifier:\n",
    "#     try:\n",
    "        \n",
    "#         fit = classifier.fit(df_train[columns.tail(limit).index], df_train[\"Donation2007\"])\n",
    "#         pred = fit.predict_proba(df_val[columns.tail(limit).index])\n",
    "#     except Exception:\n",
    "#         fit = classifier.fit(df_train[columns.tail(limit).index], df_train[\"Donation2007\"])\n",
    "#         pred = fit.predict_proba(df_val[columns.tail(limit).index])\n",
    "        \n",
    "        \n",
    "#     score = classifier.score(df_val[columns.tail(limit).index], df_val[\"Donation2007\"])\n",
    "#     Model.append(classifier.__class__.__name__)\n",
    "#     print('Accuracy of '+classifier.__class__.__name__+' is '+str(score))\n",
    "    \n",
    "#     print(\"************************************************************\")\n",
    "#     val_actual=np.array(df_val[\"Donation2007\"])\n",
    "#     val_pred=np.array(pred)\n",
    "    \n",
    "    \n",
    "for classifier in Classifier:\n",
    "    try:\n",
    "        \n",
    "        fit = classifier.fit(X_train,y_train)\n",
    "        pred = fit.predict(X_test)\n",
    "    except Exception:\n",
    "        fit = classifier.fit(X_train, y_train)\n",
    "        pred = fit.predict(X_test)\n",
    "        \n",
    "        \n",
    "    score = accuracy_score(y_test.values, pred)\n",
    "    Model.append(classifier.__class__.__name__)\n",
    "    print('Accuracy of '+classifier.__class__.__name__+' is '+str(score))\n",
    "    \n",
    "    print(\"************************************************************\")\n",
    "#     val_actual=np.array(df_val[\"Donation2007\"])\n",
    "#     val_pred=np.array(pred)"
   ]
  },
  {
   "cell_type": "code",
   "execution_count": 94,
   "metadata": {},
   "outputs": [],
   "source": [
    "lgbm = LGBMClassifier(   \n",
    "        n_estimators=132,#132\n",
    "        learning_rate=0.1,\n",
    "        num_leaves=64,\n",
    "        max_depth=7,\n",
    "        min_data_in_leaf=40,\n",
    "        max_bin =15,\n",
    "        reg_alpha=0.8, reg_lambda=0.6,\n",
    "        colsample_bytree=1.0,\n",
    "        min_split_gain=0.001, objective = \"binary\",random_state=42,\n",
    "        stratified=True\n",
    "                 )\n",
    "fit = lgbm.fit(X_train,y_train)\n",
    "pickle.dump(fit,open( \"blood_model.pickle\", \"wb\" ) )"
   ]
  },
  {
   "cell_type": "code",
   "execution_count": 98,
   "metadata": {},
   "outputs": [],
   "source": [
    "test=pd.read_csv(\"test.csv\")\n",
    "test=createfeature(test)\n",
    "test = test.drop([\"Total Volume Donated (c.c.)\"],axis=1)"
   ]
  },
  {
   "cell_type": "code",
   "execution_count": 99,
   "metadata": {},
   "outputs": [
    {
     "data": {
      "text/plain": [
       "(200, 24)"
      ]
     },
     "execution_count": 99,
     "metadata": {},
     "output_type": "execute_result"
    }
   ],
   "source": [
    "test.shape"
   ]
  },
  {
   "cell_type": "code",
   "execution_count": 100,
   "metadata": {},
   "outputs": [],
   "source": [
    "### without data scinece cycle follow"
   ]
  },
  {
   "cell_type": "code",
   "execution_count": 125,
   "metadata": {},
   "outputs": [
    {
     "data": {
      "text/plain": [
       "0.72774869109947649"
      ]
     },
     "execution_count": 125,
     "metadata": {},
     "output_type": "execute_result"
    }
   ],
   "source": [
    "train=pd.read_csv(\"train.csv\")\n",
    "X_train, X_test, y_train, y_test = train_test_split(train[['Months since Last Donation', 'Number of Donations',\n",
    "       'Total Volume Donated (c.c.)', 'Months since First Donation']], train['Made Donation in March 2007'], test_size=0.33, random_state=42)\n",
    "lgbm = RandomForestClassifier()\n",
    "fit = lgbm.fit(X_train,y_train)\n",
    "pred = fit.predict(X_test)\n",
    "accuracy_score(y_test.values, pred) \n"
   ]
  }
 ],
 "metadata": {
  "kernelspec": {
   "display_name": "Python 3",
   "language": "python",
   "name": "python3"
  },
  "language_info": {
   "codemirror_mode": {
    "name": "ipython",
    "version": 3
   },
   "file_extension": ".py",
   "mimetype": "text/x-python",
   "name": "python",
   "nbconvert_exporter": "python",
   "pygments_lexer": "ipython3",
   "version": "3.6.3"
  }
 },
 "nbformat": 4,
 "nbformat_minor": 2
}
