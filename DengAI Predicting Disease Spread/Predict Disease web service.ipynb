{
 "cells": [
  {
   "cell_type": "code",
   "execution_count": null,
   "metadata": {},
   "outputs": [],
   "source": [
    "import pandas as pd\n",
    "import math\n",
    "import numpy as np\n",
    "from sklearn.ensemble import RandomForestRegressor\n",
    "from sklearn.model_selection import train_test_split\n",
    "from lightgbm import LGBMRegressor\n",
    "from xgboost import XGBRegressor\n",
    "from sklearn import svm\n",
    "from sklearn.linear_model import SGDRegressor\n",
    "from sklearn import tree\n",
    "from sklearn.ensemble import GradientBoostingRegressor\n",
    "from sklearn.linear_model import LinearRegression\n",
    "from sklearn.preprocessing import StandardScaler\n",
    "from sklearn.preprocessing import LabelEncoder\n",
    "import pickle\n",
    "\n",
    "import os,re,sys\n",
    "from flask import Flask, abort, jsonify, request, session\n"
   ]
  },
  {
   "cell_type": "code",
   "execution_count": null,
   "metadata": {},
   "outputs": [],
   "source": [
    "def celsius(df,columns):\n",
    "    for column in columns:\n",
    "        t=column.split('_')\n",
    "        del t[len(t)-1]\n",
    "        t.append('c')\n",
    "        newcol='_'.join(t)\n",
    "        df[newcol]=df[column].apply(lambda x : x-273.15 )\n",
    "    return df"
   ]
  },
  {
   "cell_type": "code",
   "execution_count": null,
   "metadata": {},
   "outputs": [],
   "source": [
    "def convertlist():\n",
    "    columns=['reanalysis_dew_point_temp_k','reanalysis_air_temp_k','reanalysis_avg_temp_k','reanalysis_min_air_temp_k','reanalysis_max_air_temp_k','reanalysis_min_air_temp_k']\n",
    "    return columns"
   ]
  },
  {
   "cell_type": "code",
   "execution_count": null,
   "metadata": {},
   "outputs": [],
   "source": [
    "def preprocess(df):\n",
    "    df['reanalysis_tdtr_c']=df['reanalysis_max_air_temp_c']-df['reanalysis_min_air_temp_c']\n",
    "    return df\n"
   ]
  },
  {
   "cell_type": "code",
   "execution_count": null,
   "metadata": {},
   "outputs": [],
   "source": [
    "def drop(df):\n",
    "    df=df.drop(['week_start_date','reanalysis_dew_point_temp_k','reanalysis_air_temp_k','reanalysis_avg_temp_k','reanalysis_min_air_temp_k','reanalysis_max_air_temp_k','reanalysis_min_air_temp_k','reanalysis_tdtr_k'],axis=1)\n",
    "    return df"
   ]
  },
  {
   "cell_type": "code",
   "execution_count": null,
   "metadata": {},
   "outputs": [],
   "source": [
    "def imputevalues(df):\n",
    "   # print(len(df))\n",
    "    wantedcolumnlist=[]\n",
    "    columnlist=df.columns.tolist()\n",
    "    #print(len(columnlist))\n",
    "    for i in range(len(columnlist)):\n",
    "        columnname=columnlist[i]\n",
    "        nan_rows = df[columnname].isnull().sum()\n",
    "     #   print(i,nan_rows)\n",
    "        nullcount=(nan_rows/len(df))*100\n",
    "        #print(nullcount)\n",
    "        if nullcount!=0:\n",
    "            df[columnname]=df[columnname].fillna(df[columnname].mean()) \n",
    "        else:\n",
    "            pass    \n",
    "      \n",
    "    \n",
    "    return df"
   ]
  },
  {
   "cell_type": "code",
   "execution_count": null,
   "metadata": {},
   "outputs": [],
   "source": [
    "def is_chances(features):\n",
    "   \n",
    "    coolest = []\n",
    "    warmest=[]\n",
    "    normal=[]\n",
    "    \n",
    "    for observation in features['station_avg_temp_c']:\n",
    "       # print(observation)\n",
    "        if int(observation) > 28:\n",
    "            warmest.append(1)\n",
    "        else:\n",
    "            warmest.append(0)\n",
    "            \n",
    "    for observation in features['station_avg_temp_c']:\n",
    "        if observation < 24:\n",
    "            coolest.append(1)\n",
    "        else:\n",
    "            coolest.append(0)  \n",
    "            \n",
    "    for observation in features['station_avg_temp_c']:\n",
    "        if int(observation) > 24 & int(observation) <=28:\n",
    "            normal.append(1)\n",
    "        else:\n",
    "            normal.append(0)\n",
    "\n",
    "    return warmest,coolest,normal"
   ]
  },
  {
   "cell_type": "code",
   "execution_count": null,
   "metadata": {},
   "outputs": [],
   "source": [
    "disease_mode = pickle.load( open( \"disease_mode.pickle\", \"rb\" ) )\n",
    "disease_label_encoder = pickle.load( open( \"disease_label_encoder.pickle\", \"rb\" ) )"
   ]
  },
  {
   "cell_type": "code",
   "execution_count": null,
   "metadata": {},
   "outputs": [],
   "source": [
    "app = Flask(__name__)"
   ]
  },
  {
   "cell_type": "code",
   "execution_count": null,
   "metadata": {},
   "outputs": [],
   "source": [
    "@app.route('/audio', methods = ['POST'])\n",
    "def audio_identification():\n",
    "    \n",
    "    try:\n",
    "        \n",
    "        data = request.get_json(force = True)\n",
    "        \n",
    "        filepath = data['filepath']\n",
    "        #print(filepath)\n",
    "        test=pd.read_csv(filepath)\n",
    "        #print(test.head(5))\n",
    "        \n",
    "        columns=convertlist()\n",
    "        test=celsius(test,columns)\n",
    "        test=preprocess(test)\n",
    "        test=drop(test)\n",
    "        test=imputevalues(test)\n",
    "        warmest,coolest,normal = is_chances(test)\n",
    "        \n",
    "        test['verywarm']=warmest\n",
    "        test['verycool']=coolest\n",
    "        test['normal']=normal\n",
    "       \n",
    "        test['city'] = disease_label_encoder.transform(test['city'])\n",
    "          \n",
    "        pred = disease_mode.predict(test).astype(int)\n",
    "        \n",
    "        pred = pred.tolist()\n",
    "        \n",
    "    except Exception as e:\n",
    "        return jsonify ({'Error':str(e),'status':'False'})\n",
    "        \n",
    "    else:\n",
    "        return jsonify({'prediction':pred})"
   ]
  },
  {
   "cell_type": "code",
   "execution_count": null,
   "metadata": {},
   "outputs": [],
   "source": [
    "app.run(\"0.0.0.0\", port = 7001, debug = True, use_reloader = False,threaded=True)"
   ]
  },
  {
   "cell_type": "code",
   "execution_count": null,
   "metadata": {},
   "outputs": [],
   "source": []
  }
 ],
 "metadata": {
  "kernelspec": {
   "display_name": "Python 3",
   "language": "python",
   "name": "python3"
  },
  "language_info": {
   "codemirror_mode": {
    "name": "ipython",
    "version": 3
   },
   "file_extension": ".py",
   "mimetype": "text/x-python",
   "name": "python",
   "nbconvert_exporter": "python",
   "pygments_lexer": "ipython3",
   "version": "3.6.3"
  }
 },
 "nbformat": 4,
 "nbformat_minor": 2
}
